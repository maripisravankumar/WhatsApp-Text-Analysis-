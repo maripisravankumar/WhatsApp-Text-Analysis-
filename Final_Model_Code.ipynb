{
  "nbformat": 4,
  "nbformat_minor": 5,
  "metadata": {
    "colab": {
      "name": "Final_Model_Code.ipynb",
      "provenance": [],
      "include_colab_link": true
    },
    "kernelspec": {
      "display_name": "Python 3",
      "language": "python",
      "name": "python3"
    },
    "language_info": {
      "codemirror_mode": {
        "name": "ipython",
        "version": 3
      },
      "file_extension": ".py",
      "mimetype": "text/x-python",
      "name": "python",
      "nbconvert_exporter": "python",
      "pygments_lexer": "ipython3",
      "version": "3.8.8"
    }
  },
  "cells": [
    {
      "cell_type": "markdown",
      "metadata": {
        "id": "view-in-github",
        "colab_type": "text"
      },
      "source": [
        "<a href=\"https://colab.research.google.com/github/maripisravankumar/WhatsApp-Text-Analysis-/blob/main/Final_Model_Code.ipynb\" target=\"_parent\"><img src=\"https://colab.research.google.com/assets/colab-badge.svg\" alt=\"Open In Colab\"/></a>"
      ]
    },
    {
      "cell_type": "code",
      "metadata": {
        "id": "49568437"
      },
      "source": [
        "import pandas as pd\n",
        "import matplotlib.pyplot as plt"
      ],
      "id": "49568437",
      "execution_count": null,
      "outputs": []
    },
    {
      "cell_type": "code",
      "metadata": {
        "id": "0bfecb08"
      },
      "source": [
        "df=pd.read_csv('iot_telemetry_data.csv')"
      ],
      "id": "0bfecb08",
      "execution_count": null,
      "outputs": []
    },
    {
      "cell_type": "code",
      "metadata": {
        "colab": {
          "base_uri": "https://localhost:8080/",
          "height": 203
        },
        "id": "a141399a",
        "scrolled": false,
        "outputId": "9184c887-bf63-43b8-d1fe-334927be03ff"
      },
      "source": [
        "df.head()"
      ],
      "id": "a141399a",
      "execution_count": null,
      "outputs": [
        {
          "data": {
            "text/html": [
              "<div>\n",
              "<style scoped>\n",
              "    .dataframe tbody tr th:only-of-type {\n",
              "        vertical-align: middle;\n",
              "    }\n",
              "\n",
              "    .dataframe tbody tr th {\n",
              "        vertical-align: top;\n",
              "    }\n",
              "\n",
              "    .dataframe thead th {\n",
              "        text-align: right;\n",
              "    }\n",
              "</style>\n",
              "<table border=\"1\" class=\"dataframe\">\n",
              "  <thead>\n",
              "    <tr style=\"text-align: right;\">\n",
              "      <th></th>\n",
              "      <th>ts</th>\n",
              "      <th>device</th>\n",
              "      <th>co</th>\n",
              "      <th>humidity</th>\n",
              "      <th>light</th>\n",
              "      <th>lpg</th>\n",
              "      <th>motion</th>\n",
              "      <th>smoke</th>\n",
              "      <th>temp</th>\n",
              "    </tr>\n",
              "  </thead>\n",
              "  <tbody>\n",
              "    <tr>\n",
              "      <th>0</th>\n",
              "      <td>1.594512e+09</td>\n",
              "      <td>b8:27:eb:bf:9d:51</td>\n",
              "      <td>0.004956</td>\n",
              "      <td>51.000000</td>\n",
              "      <td>False</td>\n",
              "      <td>0.007651</td>\n",
              "      <td>False</td>\n",
              "      <td>0.020411</td>\n",
              "      <td>22.700000</td>\n",
              "    </tr>\n",
              "    <tr>\n",
              "      <th>1</th>\n",
              "      <td>1.594512e+09</td>\n",
              "      <td>00:0f:00:70:91:0a</td>\n",
              "      <td>0.002840</td>\n",
              "      <td>76.000000</td>\n",
              "      <td>False</td>\n",
              "      <td>0.005114</td>\n",
              "      <td>False</td>\n",
              "      <td>0.013275</td>\n",
              "      <td>19.700001</td>\n",
              "    </tr>\n",
              "    <tr>\n",
              "      <th>2</th>\n",
              "      <td>1.594512e+09</td>\n",
              "      <td>b8:27:eb:bf:9d:51</td>\n",
              "      <td>0.004976</td>\n",
              "      <td>50.900000</td>\n",
              "      <td>False</td>\n",
              "      <td>0.007673</td>\n",
              "      <td>False</td>\n",
              "      <td>0.020475</td>\n",
              "      <td>22.600000</td>\n",
              "    </tr>\n",
              "    <tr>\n",
              "      <th>3</th>\n",
              "      <td>1.594512e+09</td>\n",
              "      <td>1c:bf:ce:15:ec:4d</td>\n",
              "      <td>0.004403</td>\n",
              "      <td>76.800003</td>\n",
              "      <td>True</td>\n",
              "      <td>0.007023</td>\n",
              "      <td>False</td>\n",
              "      <td>0.018628</td>\n",
              "      <td>27.000000</td>\n",
              "    </tr>\n",
              "    <tr>\n",
              "      <th>4</th>\n",
              "      <td>1.594512e+09</td>\n",
              "      <td>b8:27:eb:bf:9d:51</td>\n",
              "      <td>0.004967</td>\n",
              "      <td>50.900000</td>\n",
              "      <td>False</td>\n",
              "      <td>0.007664</td>\n",
              "      <td>False</td>\n",
              "      <td>0.020448</td>\n",
              "      <td>22.600000</td>\n",
              "    </tr>\n",
              "  </tbody>\n",
              "</table>\n",
              "</div>"
            ],
            "text/plain": [
              "             ts             device        co  ...  motion     smoke       temp\n",
              "0  1.594512e+09  b8:27:eb:bf:9d:51  0.004956  ...   False  0.020411  22.700000\n",
              "1  1.594512e+09  00:0f:00:70:91:0a  0.002840  ...   False  0.013275  19.700001\n",
              "2  1.594512e+09  b8:27:eb:bf:9d:51  0.004976  ...   False  0.020475  22.600000\n",
              "3  1.594512e+09  1c:bf:ce:15:ec:4d  0.004403  ...   False  0.018628  27.000000\n",
              "4  1.594512e+09  b8:27:eb:bf:9d:51  0.004967  ...   False  0.020448  22.600000\n",
              "\n",
              "[5 rows x 9 columns]"
            ]
          },
          "execution_count": 130,
          "metadata": {},
          "output_type": "execute_result"
        }
      ]
    },
    {
      "cell_type": "code",
      "metadata": {
        "id": "1c51ce03"
      },
      "source": [
        "df.drop(['ts','device','lpg','motion'],axis=1,inplace=True)"
      ],
      "id": "1c51ce03",
      "execution_count": null,
      "outputs": []
    },
    {
      "cell_type": "code",
      "metadata": {
        "colab": {
          "base_uri": "https://localhost:8080/",
          "height": 203
        },
        "id": "22642682",
        "outputId": "e5a6bdb7-4362-4625-fe83-0dd151d8027f"
      },
      "source": [
        "df.head()"
      ],
      "id": "22642682",
      "execution_count": null,
      "outputs": [
        {
          "data": {
            "text/html": [
              "<div>\n",
              "<style scoped>\n",
              "    .dataframe tbody tr th:only-of-type {\n",
              "        vertical-align: middle;\n",
              "    }\n",
              "\n",
              "    .dataframe tbody tr th {\n",
              "        vertical-align: top;\n",
              "    }\n",
              "\n",
              "    .dataframe thead th {\n",
              "        text-align: right;\n",
              "    }\n",
              "</style>\n",
              "<table border=\"1\" class=\"dataframe\">\n",
              "  <thead>\n",
              "    <tr style=\"text-align: right;\">\n",
              "      <th></th>\n",
              "      <th>co</th>\n",
              "      <th>humidity</th>\n",
              "      <th>light</th>\n",
              "      <th>smoke</th>\n",
              "      <th>temp</th>\n",
              "    </tr>\n",
              "  </thead>\n",
              "  <tbody>\n",
              "    <tr>\n",
              "      <th>0</th>\n",
              "      <td>0.004956</td>\n",
              "      <td>51.000000</td>\n",
              "      <td>False</td>\n",
              "      <td>0.020411</td>\n",
              "      <td>22.700000</td>\n",
              "    </tr>\n",
              "    <tr>\n",
              "      <th>1</th>\n",
              "      <td>0.002840</td>\n",
              "      <td>76.000000</td>\n",
              "      <td>False</td>\n",
              "      <td>0.013275</td>\n",
              "      <td>19.700001</td>\n",
              "    </tr>\n",
              "    <tr>\n",
              "      <th>2</th>\n",
              "      <td>0.004976</td>\n",
              "      <td>50.900000</td>\n",
              "      <td>False</td>\n",
              "      <td>0.020475</td>\n",
              "      <td>22.600000</td>\n",
              "    </tr>\n",
              "    <tr>\n",
              "      <th>3</th>\n",
              "      <td>0.004403</td>\n",
              "      <td>76.800003</td>\n",
              "      <td>True</td>\n",
              "      <td>0.018628</td>\n",
              "      <td>27.000000</td>\n",
              "    </tr>\n",
              "    <tr>\n",
              "      <th>4</th>\n",
              "      <td>0.004967</td>\n",
              "      <td>50.900000</td>\n",
              "      <td>False</td>\n",
              "      <td>0.020448</td>\n",
              "      <td>22.600000</td>\n",
              "    </tr>\n",
              "  </tbody>\n",
              "</table>\n",
              "</div>"
            ],
            "text/plain": [
              "         co   humidity  light     smoke       temp\n",
              "0  0.004956  51.000000  False  0.020411  22.700000\n",
              "1  0.002840  76.000000  False  0.013275  19.700001\n",
              "2  0.004976  50.900000  False  0.020475  22.600000\n",
              "3  0.004403  76.800003   True  0.018628  27.000000\n",
              "4  0.004967  50.900000  False  0.020448  22.600000"
            ]
          },
          "execution_count": 132,
          "metadata": {},
          "output_type": "execute_result"
        }
      ]
    },
    {
      "cell_type": "code",
      "metadata": {
        "id": "kCgOzUzRaC7B"
      },
      "source": [
        ""
      ],
      "id": "kCgOzUzRaC7B",
      "execution_count": null,
      "outputs": []
    },
    {
      "cell_type": "code",
      "metadata": {
        "colab": {
          "base_uri": "https://localhost:8080/"
        },
        "id": "25f03f9f",
        "outputId": "ef69659c-8865-4c53-c532-07cbc4eb8591"
      },
      "source": [
        "df.shape"
      ],
      "id": "25f03f9f",
      "execution_count": null,
      "outputs": [
        {
          "data": {
            "text/plain": [
              "(405184, 5)"
            ]
          },
          "execution_count": 133,
          "metadata": {},
          "output_type": "execute_result"
        }
      ]
    },
    {
      "cell_type": "code",
      "metadata": {
        "colab": {
          "base_uri": "https://localhost:8080/"
        },
        "id": "9c3bc5ba",
        "outputId": "9ae89d6d-bbb8-4c91-b0fc-ae44eab7676c"
      },
      "source": [
        "print(df.describe())"
      ],
      "id": "9c3bc5ba",
      "execution_count": null,
      "outputs": [
        {
          "name": "stdout",
          "output_type": "stream",
          "text": [
            "                  co       humidity          smoke           temp\n",
            "count  405184.000000  405184.000000  405184.000000  405184.000000\n",
            "mean        0.004639      60.511694       0.019264      22.453987\n",
            "std         0.001250      11.366489       0.004086       2.698347\n",
            "min         0.001171       1.100000       0.006692       0.000000\n",
            "25%         0.003919      51.000000       0.017024      19.900000\n",
            "50%         0.004812      54.900000       0.019950      22.200000\n",
            "75%         0.005409      74.300003       0.021838      23.600000\n",
            "max         0.014420      99.900002       0.046590      30.600000\n"
          ]
        }
      ]
    },
    {
      "cell_type": "code",
      "metadata": {
        "id": "f68da492"
      },
      "source": [
        "from sklearn.preprocessing import LabelEncoder"
      ],
      "id": "f68da492",
      "execution_count": null,
      "outputs": []
    },
    {
      "cell_type": "code",
      "metadata": {
        "id": "040a16eb"
      },
      "source": [
        "le_light=LabelEncoder()"
      ],
      "id": "040a16eb",
      "execution_count": null,
      "outputs": []
    },
    {
      "cell_type": "code",
      "metadata": {
        "id": "3de3caa4"
      },
      "source": [
        "df['light_n']=le_light.fit_transform(df['light'])"
      ],
      "id": "3de3caa4",
      "execution_count": null,
      "outputs": []
    },
    {
      "cell_type": "code",
      "metadata": {
        "colab": {
          "base_uri": "https://localhost:8080/",
          "height": 203
        },
        "id": "a37a3f7e",
        "outputId": "9b55b822-4f59-458c-fad2-e19a5902714a"
      },
      "source": [
        "df.head()"
      ],
      "id": "a37a3f7e",
      "execution_count": null,
      "outputs": [
        {
          "data": {
            "text/html": [
              "<div>\n",
              "<style scoped>\n",
              "    .dataframe tbody tr th:only-of-type {\n",
              "        vertical-align: middle;\n",
              "    }\n",
              "\n",
              "    .dataframe tbody tr th {\n",
              "        vertical-align: top;\n",
              "    }\n",
              "\n",
              "    .dataframe thead th {\n",
              "        text-align: right;\n",
              "    }\n",
              "</style>\n",
              "<table border=\"1\" class=\"dataframe\">\n",
              "  <thead>\n",
              "    <tr style=\"text-align: right;\">\n",
              "      <th></th>\n",
              "      <th>co</th>\n",
              "      <th>humidity</th>\n",
              "      <th>light</th>\n",
              "      <th>smoke</th>\n",
              "      <th>temp</th>\n",
              "      <th>light_n</th>\n",
              "    </tr>\n",
              "  </thead>\n",
              "  <tbody>\n",
              "    <tr>\n",
              "      <th>0</th>\n",
              "      <td>0.004956</td>\n",
              "      <td>51.000000</td>\n",
              "      <td>False</td>\n",
              "      <td>0.020411</td>\n",
              "      <td>22.700000</td>\n",
              "      <td>0</td>\n",
              "    </tr>\n",
              "    <tr>\n",
              "      <th>1</th>\n",
              "      <td>0.002840</td>\n",
              "      <td>76.000000</td>\n",
              "      <td>False</td>\n",
              "      <td>0.013275</td>\n",
              "      <td>19.700001</td>\n",
              "      <td>0</td>\n",
              "    </tr>\n",
              "    <tr>\n",
              "      <th>2</th>\n",
              "      <td>0.004976</td>\n",
              "      <td>50.900000</td>\n",
              "      <td>False</td>\n",
              "      <td>0.020475</td>\n",
              "      <td>22.600000</td>\n",
              "      <td>0</td>\n",
              "    </tr>\n",
              "    <tr>\n",
              "      <th>3</th>\n",
              "      <td>0.004403</td>\n",
              "      <td>76.800003</td>\n",
              "      <td>True</td>\n",
              "      <td>0.018628</td>\n",
              "      <td>27.000000</td>\n",
              "      <td>1</td>\n",
              "    </tr>\n",
              "    <tr>\n",
              "      <th>4</th>\n",
              "      <td>0.004967</td>\n",
              "      <td>50.900000</td>\n",
              "      <td>False</td>\n",
              "      <td>0.020448</td>\n",
              "      <td>22.600000</td>\n",
              "      <td>0</td>\n",
              "    </tr>\n",
              "  </tbody>\n",
              "</table>\n",
              "</div>"
            ],
            "text/plain": [
              "         co   humidity  light     smoke       temp  light_n\n",
              "0  0.004956  51.000000  False  0.020411  22.700000        0\n",
              "1  0.002840  76.000000  False  0.013275  19.700001        0\n",
              "2  0.004976  50.900000  False  0.020475  22.600000        0\n",
              "3  0.004403  76.800003   True  0.018628  27.000000        1\n",
              "4  0.004967  50.900000  False  0.020448  22.600000        0"
            ]
          },
          "execution_count": 138,
          "metadata": {},
          "output_type": "execute_result"
        }
      ]
    },
    {
      "cell_type": "code",
      "metadata": {
        "colab": {
          "base_uri": "https://localhost:8080/",
          "height": 417
        },
        "id": "3c50631d",
        "outputId": "68a0dbea-ddaf-4a15-e472-8926be43c5ec"
      },
      "source": [
        "df.drop('light',axis='columns')"
      ],
      "id": "3c50631d",
      "execution_count": null,
      "outputs": [
        {
          "data": {
            "text/html": [
              "<div>\n",
              "<style scoped>\n",
              "    .dataframe tbody tr th:only-of-type {\n",
              "        vertical-align: middle;\n",
              "    }\n",
              "\n",
              "    .dataframe tbody tr th {\n",
              "        vertical-align: top;\n",
              "    }\n",
              "\n",
              "    .dataframe thead th {\n",
              "        text-align: right;\n",
              "    }\n",
              "</style>\n",
              "<table border=\"1\" class=\"dataframe\">\n",
              "  <thead>\n",
              "    <tr style=\"text-align: right;\">\n",
              "      <th></th>\n",
              "      <th>co</th>\n",
              "      <th>humidity</th>\n",
              "      <th>smoke</th>\n",
              "      <th>temp</th>\n",
              "      <th>light_n</th>\n",
              "    </tr>\n",
              "  </thead>\n",
              "  <tbody>\n",
              "    <tr>\n",
              "      <th>0</th>\n",
              "      <td>0.004956</td>\n",
              "      <td>51.000000</td>\n",
              "      <td>0.020411</td>\n",
              "      <td>22.700000</td>\n",
              "      <td>0</td>\n",
              "    </tr>\n",
              "    <tr>\n",
              "      <th>1</th>\n",
              "      <td>0.002840</td>\n",
              "      <td>76.000000</td>\n",
              "      <td>0.013275</td>\n",
              "      <td>19.700001</td>\n",
              "      <td>0</td>\n",
              "    </tr>\n",
              "    <tr>\n",
              "      <th>2</th>\n",
              "      <td>0.004976</td>\n",
              "      <td>50.900000</td>\n",
              "      <td>0.020475</td>\n",
              "      <td>22.600000</td>\n",
              "      <td>0</td>\n",
              "    </tr>\n",
              "    <tr>\n",
              "      <th>3</th>\n",
              "      <td>0.004403</td>\n",
              "      <td>76.800003</td>\n",
              "      <td>0.018628</td>\n",
              "      <td>27.000000</td>\n",
              "      <td>1</td>\n",
              "    </tr>\n",
              "    <tr>\n",
              "      <th>4</th>\n",
              "      <td>0.004967</td>\n",
              "      <td>50.900000</td>\n",
              "      <td>0.020448</td>\n",
              "      <td>22.600000</td>\n",
              "      <td>0</td>\n",
              "    </tr>\n",
              "    <tr>\n",
              "      <th>...</th>\n",
              "      <td>...</td>\n",
              "      <td>...</td>\n",
              "      <td>...</td>\n",
              "      <td>...</td>\n",
              "      <td>...</td>\n",
              "    </tr>\n",
              "    <tr>\n",
              "      <th>405179</th>\n",
              "      <td>0.003745</td>\n",
              "      <td>75.300003</td>\n",
              "      <td>0.016437</td>\n",
              "      <td>19.200001</td>\n",
              "      <td>0</td>\n",
              "    </tr>\n",
              "    <tr>\n",
              "      <th>405180</th>\n",
              "      <td>0.005882</td>\n",
              "      <td>48.500000</td>\n",
              "      <td>0.023301</td>\n",
              "      <td>22.200000</td>\n",
              "      <td>0</td>\n",
              "    </tr>\n",
              "    <tr>\n",
              "      <th>405181</th>\n",
              "      <td>0.004540</td>\n",
              "      <td>75.699997</td>\n",
              "      <td>0.019076</td>\n",
              "      <td>26.600000</td>\n",
              "      <td>1</td>\n",
              "    </tr>\n",
              "    <tr>\n",
              "      <th>405182</th>\n",
              "      <td>0.003745</td>\n",
              "      <td>75.300003</td>\n",
              "      <td>0.016437</td>\n",
              "      <td>19.200001</td>\n",
              "      <td>0</td>\n",
              "    </tr>\n",
              "    <tr>\n",
              "      <th>405183</th>\n",
              "      <td>0.005914</td>\n",
              "      <td>48.400000</td>\n",
              "      <td>0.023400</td>\n",
              "      <td>22.200000</td>\n",
              "      <td>0</td>\n",
              "    </tr>\n",
              "  </tbody>\n",
              "</table>\n",
              "<p>405184 rows × 5 columns</p>\n",
              "</div>"
            ],
            "text/plain": [
              "              co   humidity     smoke       temp  light_n\n",
              "0       0.004956  51.000000  0.020411  22.700000        0\n",
              "1       0.002840  76.000000  0.013275  19.700001        0\n",
              "2       0.004976  50.900000  0.020475  22.600000        0\n",
              "3       0.004403  76.800003  0.018628  27.000000        1\n",
              "4       0.004967  50.900000  0.020448  22.600000        0\n",
              "...          ...        ...       ...        ...      ...\n",
              "405179  0.003745  75.300003  0.016437  19.200001        0\n",
              "405180  0.005882  48.500000  0.023301  22.200000        0\n",
              "405181  0.004540  75.699997  0.019076  26.600000        1\n",
              "405182  0.003745  75.300003  0.016437  19.200001        0\n",
              "405183  0.005914  48.400000  0.023400  22.200000        0\n",
              "\n",
              "[405184 rows x 5 columns]"
            ]
          },
          "execution_count": 139,
          "metadata": {},
          "output_type": "execute_result"
        }
      ]
    },
    {
      "cell_type": "code",
      "metadata": {
        "id": "fa44a90c"
      },
      "source": [
        "y=df['light_n']\n",
        "from sklearn.model_selection import train_test_split"
      ],
      "id": "fa44a90c",
      "execution_count": null,
      "outputs": []
    },
    {
      "cell_type": "code",
      "metadata": {
        "colab": {
          "base_uri": "https://localhost:8080/",
          "height": 203
        },
        "id": "15a2a272",
        "outputId": "65395654-9887-4f04-b0f2-db9e2d2bb067"
      },
      "source": [
        "x=df.drop(['light','light_n'],axis='columns')\n",
        "x.head()"
      ],
      "id": "15a2a272",
      "execution_count": null,
      "outputs": [
        {
          "data": {
            "text/html": [
              "<div>\n",
              "<style scoped>\n",
              "    .dataframe tbody tr th:only-of-type {\n",
              "        vertical-align: middle;\n",
              "    }\n",
              "\n",
              "    .dataframe tbody tr th {\n",
              "        vertical-align: top;\n",
              "    }\n",
              "\n",
              "    .dataframe thead th {\n",
              "        text-align: right;\n",
              "    }\n",
              "</style>\n",
              "<table border=\"1\" class=\"dataframe\">\n",
              "  <thead>\n",
              "    <tr style=\"text-align: right;\">\n",
              "      <th></th>\n",
              "      <th>co</th>\n",
              "      <th>humidity</th>\n",
              "      <th>smoke</th>\n",
              "      <th>temp</th>\n",
              "    </tr>\n",
              "  </thead>\n",
              "  <tbody>\n",
              "    <tr>\n",
              "      <th>0</th>\n",
              "      <td>0.004956</td>\n",
              "      <td>51.000000</td>\n",
              "      <td>0.020411</td>\n",
              "      <td>22.700000</td>\n",
              "    </tr>\n",
              "    <tr>\n",
              "      <th>1</th>\n",
              "      <td>0.002840</td>\n",
              "      <td>76.000000</td>\n",
              "      <td>0.013275</td>\n",
              "      <td>19.700001</td>\n",
              "    </tr>\n",
              "    <tr>\n",
              "      <th>2</th>\n",
              "      <td>0.004976</td>\n",
              "      <td>50.900000</td>\n",
              "      <td>0.020475</td>\n",
              "      <td>22.600000</td>\n",
              "    </tr>\n",
              "    <tr>\n",
              "      <th>3</th>\n",
              "      <td>0.004403</td>\n",
              "      <td>76.800003</td>\n",
              "      <td>0.018628</td>\n",
              "      <td>27.000000</td>\n",
              "    </tr>\n",
              "    <tr>\n",
              "      <th>4</th>\n",
              "      <td>0.004967</td>\n",
              "      <td>50.900000</td>\n",
              "      <td>0.020448</td>\n",
              "      <td>22.600000</td>\n",
              "    </tr>\n",
              "  </tbody>\n",
              "</table>\n",
              "</div>"
            ],
            "text/plain": [
              "         co   humidity     smoke       temp\n",
              "0  0.004956  51.000000  0.020411  22.700000\n",
              "1  0.002840  76.000000  0.013275  19.700001\n",
              "2  0.004976  50.900000  0.020475  22.600000\n",
              "3  0.004403  76.800003  0.018628  27.000000\n",
              "4  0.004967  50.900000  0.020448  22.600000"
            ]
          },
          "execution_count": 141,
          "metadata": {},
          "output_type": "execute_result"
        }
      ]
    },
    {
      "cell_type": "code",
      "metadata": {
        "id": "f242f6aa"
      },
      "source": [
        "x_train,x_test,y_train,y_test=train_test_split(x,y,test_size=0.2)"
      ],
      "id": "f242f6aa",
      "execution_count": null,
      "outputs": []
    },
    {
      "cell_type": "code",
      "metadata": {
        "colab": {
          "base_uri": "https://localhost:8080/",
          "height": 203
        },
        "id": "d25a595d",
        "outputId": "e1372e6b-ef92-432d-f574-9e02b4768c67"
      },
      "source": [
        "x_train.head()"
      ],
      "id": "d25a595d",
      "execution_count": null,
      "outputs": [
        {
          "data": {
            "text/html": [
              "<div>\n",
              "<style scoped>\n",
              "    .dataframe tbody tr th:only-of-type {\n",
              "        vertical-align: middle;\n",
              "    }\n",
              "\n",
              "    .dataframe tbody tr th {\n",
              "        vertical-align: top;\n",
              "    }\n",
              "\n",
              "    .dataframe thead th {\n",
              "        text-align: right;\n",
              "    }\n",
              "</style>\n",
              "<table border=\"1\" class=\"dataframe\">\n",
              "  <thead>\n",
              "    <tr style=\"text-align: right;\">\n",
              "      <th></th>\n",
              "      <th>co</th>\n",
              "      <th>humidity</th>\n",
              "      <th>smoke</th>\n",
              "      <th>temp</th>\n",
              "    </tr>\n",
              "  </thead>\n",
              "  <tbody>\n",
              "    <tr>\n",
              "      <th>91222</th>\n",
              "      <td>0.004816</td>\n",
              "      <td>73.699997</td>\n",
              "      <td>0.019964</td>\n",
              "      <td>19.0</td>\n",
              "    </tr>\n",
              "    <tr>\n",
              "      <th>129461</th>\n",
              "      <td>0.004972</td>\n",
              "      <td>54.900000</td>\n",
              "      <td>0.020461</td>\n",
              "      <td>22.1</td>\n",
              "    </tr>\n",
              "    <tr>\n",
              "      <th>263750</th>\n",
              "      <td>0.006062</td>\n",
              "      <td>48.800000</td>\n",
              "      <td>0.023849</td>\n",
              "      <td>21.9</td>\n",
              "    </tr>\n",
              "    <tr>\n",
              "      <th>125789</th>\n",
              "      <td>0.005002</td>\n",
              "      <td>53.800000</td>\n",
              "      <td>0.020557</td>\n",
              "      <td>22.2</td>\n",
              "    </tr>\n",
              "    <tr>\n",
              "      <th>116175</th>\n",
              "      <td>0.004857</td>\n",
              "      <td>54.900000</td>\n",
              "      <td>0.020094</td>\n",
              "      <td>22.4</td>\n",
              "    </tr>\n",
              "  </tbody>\n",
              "</table>\n",
              "</div>"
            ],
            "text/plain": [
              "              co   humidity     smoke  temp\n",
              "91222   0.004816  73.699997  0.019964  19.0\n",
              "129461  0.004972  54.900000  0.020461  22.1\n",
              "263750  0.006062  48.800000  0.023849  21.9\n",
              "125789  0.005002  53.800000  0.020557  22.2\n",
              "116175  0.004857  54.900000  0.020094  22.4"
            ]
          },
          "execution_count": 143,
          "metadata": {},
          "output_type": "execute_result"
        }
      ]
    },
    {
      "cell_type": "markdown",
      "metadata": {
        "id": "e650d927"
      },
      "source": [
        "# DECISION TREE"
      ],
      "id": "e650d927"
    },
    {
      "cell_type": "code",
      "metadata": {
        "id": "fe98f391"
      },
      "source": [
        "from sklearn import tree"
      ],
      "id": "fe98f391",
      "execution_count": null,
      "outputs": []
    },
    {
      "cell_type": "code",
      "metadata": {
        "id": "c22baa70"
      },
      "source": [
        "model=tree.DecisionTreeClassifier(criterion='gini',max_depth=5,max_features=4,min_samples_split=10000,min_samples_leaf=1000)"
      ],
      "id": "c22baa70",
      "execution_count": null,
      "outputs": []
    },
    {
      "cell_type": "code",
      "metadata": {
        "colab": {
          "base_uri": "https://localhost:8080/"
        },
        "id": "c039f0c0",
        "outputId": "8ec26016-bf52-44e9-a5e6-f19a62a1ad72"
      },
      "source": [
        "model.fit(x_train,y_train)"
      ],
      "id": "c039f0c0",
      "execution_count": null,
      "outputs": [
        {
          "data": {
            "text/plain": [
              "DecisionTreeClassifier(ccp_alpha=0.0, class_weight=None, criterion='gini',\n",
              "                       max_depth=5, max_features=4, max_leaf_nodes=None,\n",
              "                       min_impurity_decrease=0.0, min_impurity_split=None,\n",
              "                       min_samples_leaf=1000, min_samples_split=10000,\n",
              "                       min_weight_fraction_leaf=0.0, presort='deprecated',\n",
              "                       random_state=None, splitter='best')"
            ]
          },
          "execution_count": 146,
          "metadata": {},
          "output_type": "execute_result"
        }
      ]
    },
    {
      "cell_type": "code",
      "metadata": {
        "colab": {
          "base_uri": "https://localhost:8080/"
        },
        "id": "f197f131",
        "outputId": "7d05646e-73ef-4929-e234-ef1494992be0"
      },
      "source": [
        "model.score(x_test,y_test)"
      ],
      "id": "f197f131",
      "execution_count": null,
      "outputs": [
        {
          "data": {
            "text/plain": [
              "0.9810456951762775"
            ]
          },
          "execution_count": 147,
          "metadata": {},
          "output_type": "execute_result"
        }
      ]
    },
    {
      "cell_type": "code",
      "metadata": {
        "id": "fb8f4015"
      },
      "source": [
        "#Checking if there is overfitting/underfitting"
      ],
      "id": "fb8f4015",
      "execution_count": null,
      "outputs": []
    },
    {
      "cell_type": "code",
      "metadata": {
        "id": "36f841a1"
      },
      "source": [
        "pred_test=model.predict(x_test)\n",
        "pred_train=model.predict(x_train)"
      ],
      "id": "36f841a1",
      "execution_count": null,
      "outputs": []
    },
    {
      "cell_type": "code",
      "metadata": {
        "id": "9f504007"
      },
      "source": [
        "from sklearn.metrics import accuracy_score\n",
        "accuracy_train=accuracy_score(y_train,pred_train)\n",
        "accuracy_test=accuracy_score(y_test,pred_test)"
      ],
      "id": "9f504007",
      "execution_count": null,
      "outputs": []
    },
    {
      "cell_type": "code",
      "metadata": {
        "colab": {
          "base_uri": "https://localhost:8080/"
        },
        "id": "a948ec48",
        "outputId": "7afae093-b52f-4169-c235-012baf4781ad"
      },
      "source": [
        "print(accuracy_train)"
      ],
      "id": "a948ec48",
      "execution_count": null,
      "outputs": [
        {
          "name": "stdout",
          "output_type": "stream",
          "text": [
            "0.9809623411600292\n"
          ]
        }
      ]
    },
    {
      "cell_type": "code",
      "metadata": {
        "colab": {
          "base_uri": "https://localhost:8080/"
        },
        "id": "b7b23c16",
        "outputId": "a0fba2db-5d84-4a8f-ebed-c8bb8469611c"
      },
      "source": [
        "print(accuracy_test)"
      ],
      "id": "b7b23c16",
      "execution_count": null,
      "outputs": [
        {
          "name": "stdout",
          "output_type": "stream",
          "text": [
            "0.9810456951762775\n"
          ]
        }
      ]
    },
    {
      "cell_type": "code",
      "metadata": {
        "colab": {
          "base_uri": "https://localhost:8080/"
        },
        "id": "da8f18e9",
        "outputId": "a3cf3198-47f3-4c93-8e3c-92744f17802c"
      },
      "source": [
        "from sklearn.metrics import confusion_matrix\n",
        "confusion_matrix(y_test,pred_test)"
      ],
      "id": "da8f18e9",
      "execution_count": null,
      "outputs": [
        {
          "data": {
            "text/plain": [
              "array([[58459,     5],\n",
              "       [ 1531, 21042]])"
            ]
          },
          "execution_count": 153,
          "metadata": {},
          "output_type": "execute_result"
        }
      ]
    },
    {
      "cell_type": "code",
      "metadata": {
        "colab": {
          "base_uri": "https://localhost:8080/"
        },
        "id": "98391501",
        "outputId": "b0227332-b7e1-4d24-de09-5ccc19bef736"
      },
      "source": [
        "#Type1 error and type2 is called for FN Rate\n",
        "FP_Rate=(419)/(419+58053)  \n",
        "print(FP_Rate)"
      ],
      "id": "98391501",
      "execution_count": null,
      "outputs": [
        {
          "name": "stdout",
          "output_type": "stream",
          "text": [
            "0.00716582295799699\n"
          ]
        }
      ]
    },
    {
      "cell_type": "raw",
      "metadata": {
        "id": "33c92e22"
      },
      "source": [
        "Recall=TPR,Precision=+ve Predicted val,f beta-score=((1+beta^2)precision*recall)/((beta^2)*precision+recall)"
      ],
      "id": "33c92e22"
    },
    {
      "cell_type": "code",
      "metadata": {
        "colab": {
          "base_uri": "https://localhost:8080/"
        },
        "id": "9e4bc3fc",
        "outputId": "98bac535-95f6-4f07-97ce-b6eda1f81500"
      },
      "source": [
        "from sklearn.metrics import classification_report\n",
        "print(classification_report(y_test,pred_test))"
      ],
      "id": "9e4bc3fc",
      "execution_count": null,
      "outputs": [
        {
          "name": "stdout",
          "output_type": "stream",
          "text": [
            "              precision    recall  f1-score   support\n",
            "\n",
            "           0       0.97      1.00      0.99     58464\n",
            "           1       1.00      0.93      0.96     22573\n",
            "\n",
            "    accuracy                           0.98     81037\n",
            "   macro avg       0.99      0.97      0.98     81037\n",
            "weighted avg       0.98      0.98      0.98     81037\n",
            "\n"
          ]
        }
      ]
    },
    {
      "cell_type": "code",
      "metadata": {
        "id": "5d4bf91a"
      },
      "source": [
        "from sklearn.metrics import precision_recall_curve\n",
        "precision ,recall,thresholds=precision_recall_curve(y_test,pred_test)"
      ],
      "id": "5d4bf91a",
      "execution_count": null,
      "outputs": []
    },
    {
      "cell_type": "code",
      "metadata": {
        "colab": {
          "base_uri": "https://localhost:8080/"
        },
        "id": "3bb45afb",
        "outputId": "ebae2e32-0aa4-4c8a-831f-756426afb7ce"
      },
      "source": [
        "precision"
      ],
      "id": "3bb45afb",
      "execution_count": null,
      "outputs": [
        {
          "data": {
            "text/plain": [
              "array([0.27855177, 0.99976244, 1.        ])"
            ]
          },
          "execution_count": 157,
          "metadata": {},
          "output_type": "execute_result"
        }
      ]
    },
    {
      "cell_type": "code",
      "metadata": {
        "colab": {
          "base_uri": "https://localhost:8080/"
        },
        "id": "c4e09c0a",
        "outputId": "ba223330-473a-4199-aba2-a61a45839599"
      },
      "source": [
        "recall"
      ],
      "id": "c4e09c0a",
      "execution_count": null,
      "outputs": [
        {
          "data": {
            "text/plain": [
              "array([1.        , 0.93217561, 0.        ])"
            ]
          },
          "execution_count": 158,
          "metadata": {},
          "output_type": "execute_result"
        }
      ]
    },
    {
      "cell_type": "code",
      "metadata": {
        "colab": {
          "base_uri": "https://localhost:8080/"
        },
        "id": "46658c13",
        "outputId": "83f8853c-bbbf-4a4b-a361-e56f7ab67279"
      },
      "source": [
        "thresholds"
      ],
      "id": "46658c13",
      "execution_count": null,
      "outputs": [
        {
          "data": {
            "text/plain": [
              "array([0, 1])"
            ]
          },
          "execution_count": 159,
          "metadata": {},
          "output_type": "execute_result"
        }
      ]
    },
    {
      "cell_type": "code",
      "metadata": {
        "colab": {
          "base_uri": "https://localhost:8080/"
        },
        "id": "4bf3f3c4",
        "outputId": "ef80253c-f8c2-4eb6-8a8b-844c05a7f471"
      },
      "source": [
        "model.score(x_test,y_test)"
      ],
      "id": "4bf3f3c4",
      "execution_count": null,
      "outputs": [
        {
          "data": {
            "text/plain": [
              "0.9810456951762775"
            ]
          },
          "execution_count": 160,
          "metadata": {},
          "output_type": "execute_result"
        }
      ]
    },
    {
      "cell_type": "code",
      "metadata": {
        "colab": {
          "base_uri": "https://localhost:8080/"
        },
        "id": "ef436ada",
        "outputId": "7532dce0-6e40-4461-812f-dab23f8619f9"
      },
      "source": [
        "model.predict([[0.0040,54.699997,0.00076,21.600000]])"
      ],
      "id": "ef436ada",
      "execution_count": null,
      "outputs": [
        {
          "data": {
            "text/plain": [
              "array([0])"
            ]
          },
          "execution_count": 161,
          "metadata": {},
          "output_type": "execute_result"
        }
      ]
    },
    {
      "cell_type": "markdown",
      "metadata": {
        "id": "36ad168c"
      },
      "source": [
        "# Hypertuning for decision tree"
      ],
      "id": "36ad168c"
    },
    {
      "cell_type": "code",
      "metadata": {
        "id": "05f100a9"
      },
      "source": [
        ""
      ],
      "id": "05f100a9",
      "execution_count": null,
      "outputs": []
    },
    {
      "cell_type": "code",
      "metadata": {
        "colab": {
          "base_uri": "https://localhost:8080/"
        },
        "id": "859f09a8",
        "outputId": "24a38ef9-8152-42c6-9903-8f1f0e465206"
      },
      "source": [
        "import numpy as np\n",
        "from sklearn.model_selection import RandomizedSearchCV\n",
        "max_features=['auto']\n",
        "max_depth=[int(x) for x in np.linspace(start=10,stop=50,num=5)]\n",
        "min_sample_split=[2,4,6]\n",
        "min_samples_leaf=[1,3,5]\n",
        "dtrandom_grid={\n",
        "    'max_features':max_features,\n",
        "    'max_depth':max_depth,\n",
        "    'min_samples_split':min_sample_split,\n",
        "    'min_samples_leaf':min_samples_leaf,\n",
        "    'criterion':['entropy','gini']\n",
        "}\n",
        "print(dtrandom_grid)"
      ],
      "id": "859f09a8",
      "execution_count": null,
      "outputs": [
        {
          "name": "stdout",
          "output_type": "stream",
          "text": [
            "{'max_features': ['auto'], 'max_depth': [10, 20, 30, 40, 50], 'min_samples_split': [2, 4, 6], 'min_samples_leaf': [1, 3, 5], 'criterion': ['entropy', 'gini']}\n"
          ]
        }
      ]
    },
    {
      "cell_type": "code",
      "metadata": {
        "colab": {
          "base_uri": "https://localhost:8080/"
        },
        "id": "ca02f567",
        "outputId": "ac9e80eb-1af6-4444-af40-379dee992ba8"
      },
      "source": [
        "dt=tree.DecisionTreeClassifier()\n",
        "dt_randomcv=RandomizedSearchCV(estimator=dt,param_distributions=dtrandom_grid,n_iter=2,cv=2,verbose=2,random_state=2,n_jobs=-1)\n",
        "dt_randomcv.fit(x_train,y_train)"
      ],
      "id": "ca02f567",
      "execution_count": null,
      "outputs": [
        {
          "name": "stdout",
          "output_type": "stream",
          "text": [
            "Fitting 2 folds for each of 2 candidates, totalling 4 fits\n"
          ]
        },
        {
          "name": "stderr",
          "output_type": "stream",
          "text": [
            "[Parallel(n_jobs=-1)]: Using backend LokyBackend with 2 concurrent workers.\n",
            "[Parallel(n_jobs=-1)]: Done   4 out of   4 | elapsed:    2.1s remaining:    0.0s\n",
            "[Parallel(n_jobs=-1)]: Done   4 out of   4 | elapsed:    2.1s finished\n"
          ]
        },
        {
          "data": {
            "text/plain": [
              "RandomizedSearchCV(cv=2, error_score=nan,\n",
              "                   estimator=DecisionTreeClassifier(ccp_alpha=0.0,\n",
              "                                                    class_weight=None,\n",
              "                                                    criterion='gini',\n",
              "                                                    max_depth=None,\n",
              "                                                    max_features=None,\n",
              "                                                    max_leaf_nodes=None,\n",
              "                                                    min_impurity_decrease=0.0,\n",
              "                                                    min_impurity_split=None,\n",
              "                                                    min_samples_leaf=1,\n",
              "                                                    min_samples_split=2,\n",
              "                                                    min_weight_fraction_leaf=0.0,\n",
              "                                                    presort='deprecated',\n",
              "                                                    random_state=None,\n",
              "                                                    splitter='best'),\n",
              "                   iid='deprecated', n_iter=2, n_jobs=-1,\n",
              "                   param_distributions={'criterion': ['entropy', 'gini'],\n",
              "                                        'max_depth': [10, 20, 30, 40, 50],\n",
              "                                        'max_features': ['auto'],\n",
              "                                        'min_samples_leaf': [1, 3, 5],\n",
              "                                        'min_samples_split': [2, 4, 6]},\n",
              "                   pre_dispatch='2*n_jobs', random_state=2, refit=True,\n",
              "                   return_train_score=False, scoring=None, verbose=2)"
            ]
          },
          "execution_count": 163,
          "metadata": {},
          "output_type": "execute_result"
        }
      ]
    },
    {
      "cell_type": "code",
      "metadata": {
        "colab": {
          "base_uri": "https://localhost:8080/"
        },
        "id": "7c7719e8",
        "outputId": "f66c977a-6e92-4370-e3a8-2c596bb6a187"
      },
      "source": [
        "dt_randomcv.best_params_"
      ],
      "id": "7c7719e8",
      "execution_count": null,
      "outputs": [
        {
          "data": {
            "text/plain": [
              "{'criterion': 'gini',\n",
              " 'max_depth': 40,\n",
              " 'max_features': 'auto',\n",
              " 'min_samples_leaf': 3,\n",
              " 'min_samples_split': 6}"
            ]
          },
          "execution_count": 164,
          "metadata": {},
          "output_type": "execute_result"
        }
      ]
    },
    {
      "cell_type": "code",
      "metadata": {
        "colab": {
          "base_uri": "https://localhost:8080/"
        },
        "id": "652ddfc9",
        "outputId": "1c3a4dc6-0ebf-4084-e1fc-e77ea1b529e4"
      },
      "source": [
        "dtmodel=tree.DecisionTreeClassifier(criterion='gini',max_features='auto',max_depth=40,min_samples_split=6,min_samples_leaf=3).fit(x_train,y_train)\n",
        "predictions=dtmodel.predict(x_test)\n",
        "print(confusion_matrix(y_test,predictions))\n",
        "print(accuracy_score(y_test,predictions))\n",
        "print(classification_report(y_test,predictions))"
      ],
      "id": "652ddfc9",
      "execution_count": null,
      "outputs": [
        {
          "name": "stdout",
          "output_type": "stream",
          "text": [
            "[[58125   339]\n",
            " [  576 21997]]\n",
            "0.9887088613843059\n",
            "              precision    recall  f1-score   support\n",
            "\n",
            "           0       0.99      0.99      0.99     58464\n",
            "           1       0.98      0.97      0.98     22573\n",
            "\n",
            "    accuracy                           0.99     81037\n",
            "   macro avg       0.99      0.98      0.99     81037\n",
            "weighted avg       0.99      0.99      0.99     81037\n",
            "\n"
          ]
        }
      ]
    },
    {
      "cell_type": "code",
      "metadata": {
        "id": "ef4eee62"
      },
      "source": [
        "from sklearn.model_selection import GridSearchCV"
      ],
      "id": "ef4eee62",
      "execution_count": null,
      "outputs": []
    },
    {
      "cell_type": "code",
      "metadata": {
        "colab": {
          "base_uri": "https://localhost:8080/"
        },
        "id": "b63e53cf",
        "outputId": "ff4f4855-5f7a-4627-9539-a58c7c4380f5"
      },
      "source": [
        "dt_param_grid={\n",
        "    'criterion':[dt_randomcv.best_params_['criterion']],\n",
        "    'max_depth':[dt_randomcv.best_params_['max_depth']-5,\n",
        "                dt_randomcv.best_params_['max_depth'],\n",
        "                dt_randomcv.best_params_['max_depth']+5],\n",
        "    'max_features':[dt_randomcv.best_params_['max_features']],\n",
        "    'min_samples_leaf':[dt_randomcv.best_params_['min_samples_leaf'],\n",
        "                       dt_randomcv.best_params_['min_samples_leaf']+1,\n",
        "                       dt_randomcv.best_params_['min_samples_leaf']+2],\n",
        "    'min_samples_split':[dt_randomcv.best_params_['min_samples_split']-1,\n",
        "                        dt_randomcv.best_params_['min_samples_split'],\n",
        "                        dt_randomcv.best_params_['min_samples_split']+1]\n",
        "    \n",
        "}\n",
        "print(dt_param_grid)"
      ],
      "id": "b63e53cf",
      "execution_count": null,
      "outputs": [
        {
          "name": "stdout",
          "output_type": "stream",
          "text": [
            "{'criterion': ['gini'], 'max_depth': [35, 40, 45], 'max_features': ['auto'], 'min_samples_leaf': [3, 4, 5], 'min_samples_split': [5, 6, 7]}\n"
          ]
        }
      ]
    },
    {
      "cell_type": "code",
      "metadata": {
        "colab": {
          "base_uri": "https://localhost:8080/"
        },
        "id": "f45c5e8e",
        "outputId": "b1680b4a-27ec-43c4-84a3-3bee9e1af4d9"
      },
      "source": [
        "dt=tree.DecisionTreeClassifier()\n",
        "dt_grid_search=GridSearchCV(estimator=dt,param_grid=dt_param_grid,cv=2,n_jobs=-1)\n",
        "dt_grid_search.fit(x_train,y_train)"
      ],
      "id": "f45c5e8e",
      "execution_count": null,
      "outputs": [
        {
          "data": {
            "text/plain": [
              "GridSearchCV(cv=2, error_score=nan,\n",
              "             estimator=DecisionTreeClassifier(ccp_alpha=0.0, class_weight=None,\n",
              "                                              criterion='gini', max_depth=None,\n",
              "                                              max_features=None,\n",
              "                                              max_leaf_nodes=None,\n",
              "                                              min_impurity_decrease=0.0,\n",
              "                                              min_impurity_split=None,\n",
              "                                              min_samples_leaf=1,\n",
              "                                              min_samples_split=2,\n",
              "                                              min_weight_fraction_leaf=0.0,\n",
              "                                              presort='deprecated',\n",
              "                                              random_state=None,\n",
              "                                              splitter='best'),\n",
              "             iid='deprecated', n_jobs=-1,\n",
              "             param_grid={'criterion': ['gini'], 'max_depth': [35, 40, 45],\n",
              "                         'max_features': ['auto'],\n",
              "                         'min_samples_leaf': [3, 4, 5],\n",
              "                         'min_samples_split': [5, 6, 7]},\n",
              "             pre_dispatch='2*n_jobs', refit=True, return_train_score=False,\n",
              "             scoring=None, verbose=0)"
            ]
          },
          "execution_count": 168,
          "metadata": {},
          "output_type": "execute_result"
        }
      ]
    },
    {
      "cell_type": "code",
      "metadata": {
        "colab": {
          "base_uri": "https://localhost:8080/"
        },
        "id": "ca2f9fdb",
        "outputId": "90d92109-b227-43ec-af88-81a0e470d926"
      },
      "source": [
        "dt_grid_search.best_estimator_"
      ],
      "id": "ca2f9fdb",
      "execution_count": null,
      "outputs": [
        {
          "data": {
            "text/plain": [
              "DecisionTreeClassifier(ccp_alpha=0.0, class_weight=None, criterion='gini',\n",
              "                       max_depth=45, max_features='auto', max_leaf_nodes=None,\n",
              "                       min_impurity_decrease=0.0, min_impurity_split=None,\n",
              "                       min_samples_leaf=4, min_samples_split=5,\n",
              "                       min_weight_fraction_leaf=0.0, presort='deprecated',\n",
              "                       random_state=None, splitter='best')"
            ]
          },
          "execution_count": 169,
          "metadata": {},
          "output_type": "execute_result"
        }
      ]
    },
    {
      "cell_type": "code",
      "metadata": {
        "colab": {
          "base_uri": "https://localhost:8080/"
        },
        "id": "e8a01094",
        "outputId": "e8dd4651-1e05-4701-9ee0-0e501515f85f"
      },
      "source": [
        "dt_modell=tree.DecisionTreeClassifier(criterion='gini',max_depth=35,min_samples_split=6,min_samples_leaf=4).fit(x_train,y_train)\n",
        "predictions=dt_modell.predict(x_test)\n",
        "print(confusion_matrix(y_test,predictions))\n",
        "print(accuracy_score(y_test,predictions))\n",
        "print(classification_report(y_test,predictions))"
      ],
      "id": "e8a01094",
      "execution_count": null,
      "outputs": [
        {
          "name": "stdout",
          "output_type": "stream",
          "text": [
            "[[58158   306]\n",
            " [  553 22020]]\n",
            "0.9893999037476708\n",
            "              precision    recall  f1-score   support\n",
            "\n",
            "           0       0.99      0.99      0.99     58464\n",
            "           1       0.99      0.98      0.98     22573\n",
            "\n",
            "    accuracy                           0.99     81037\n",
            "   macro avg       0.99      0.99      0.99     81037\n",
            "weighted avg       0.99      0.99      0.99     81037\n",
            "\n"
          ]
        }
      ]
    },
    {
      "cell_type": "code",
      "metadata": {
        "id": "35ffe995"
      },
      "source": [
        ""
      ],
      "id": "35ffe995",
      "execution_count": null,
      "outputs": []
    },
    {
      "cell_type": "markdown",
      "metadata": {
        "id": "998fd02a"
      },
      "source": [
        "# NAIVE BAYES"
      ],
      "id": "998fd02a"
    },
    {
      "cell_type": "code",
      "metadata": {
        "id": "2ef0cf57"
      },
      "source": [
        "from sklearn.naive_bayes import GaussianNB\n",
        "model1=GaussianNB()"
      ],
      "id": "2ef0cf57",
      "execution_count": null,
      "outputs": []
    },
    {
      "cell_type": "code",
      "metadata": {
        "colab": {
          "base_uri": "https://localhost:8080/"
        },
        "id": "4baec851",
        "outputId": "284c1ad9-dd58-445c-85bf-cc2ae794a66e"
      },
      "source": [
        "model1.fit(x_train,y_train)"
      ],
      "id": "4baec851",
      "execution_count": null,
      "outputs": [
        {
          "output_type": "execute_result",
          "data": {
            "text/plain": [
              "GaussianNB(priors=None, var_smoothing=1e-09)"
            ]
          },
          "metadata": {},
          "execution_count": 207
        }
      ]
    },
    {
      "cell_type": "raw",
      "metadata": {
        "id": "90122331"
      },
      "source": [
        "model1.score(x_test,y_test)"
      ],
      "id": "90122331"
    },
    {
      "cell_type": "markdown",
      "metadata": {
        "id": "e2ea01e0"
      },
      "source": [
        "# RANDOM FOREST"
      ],
      "id": "e2ea01e0"
    },
    {
      "cell_type": "code",
      "metadata": {
        "colab": {
          "base_uri": "https://localhost:8080/"
        },
        "id": "ef924638",
        "outputId": "588b5cb3-8a22-4e28-b831-046afebb30dc"
      },
      "source": [
        "from sklearn.ensemble import RandomForestClassifier\n",
        "model2=RandomForestClassifier()\n",
        "model2.fit(x_train,y_train)"
      ],
      "id": "ef924638",
      "execution_count": null,
      "outputs": [
        {
          "output_type": "execute_result",
          "data": {
            "text/plain": [
              "RandomForestClassifier(bootstrap=True, ccp_alpha=0.0, class_weight=None,\n",
              "                       criterion='gini', max_depth=None, max_features='auto',\n",
              "                       max_leaf_nodes=None, max_samples=None,\n",
              "                       min_impurity_decrease=0.0, min_impurity_split=None,\n",
              "                       min_samples_leaf=1, min_samples_split=2,\n",
              "                       min_weight_fraction_leaf=0.0, n_estimators=100,\n",
              "                       n_jobs=None, oob_score=False, random_state=None,\n",
              "                       verbose=0, warm_start=False)"
            ]
          },
          "metadata": {},
          "execution_count": 204
        }
      ]
    },
    {
      "cell_type": "code",
      "metadata": {
        "colab": {
          "base_uri": "https://localhost:8080/"
        },
        "id": "31890f36",
        "outputId": "a274b584-96ee-4f25-d774-1733da504235"
      },
      "source": [
        "model2.score(x_test,y_test)"
      ],
      "id": "31890f36",
      "execution_count": null,
      "outputs": [
        {
          "data": {
            "text/plain": [
              "0.9950886632032282"
            ]
          },
          "execution_count": 173,
          "metadata": {},
          "output_type": "execute_result"
        }
      ]
    },
    {
      "cell_type": "markdown",
      "metadata": {
        "id": "e7b6ef33"
      },
      "source": [
        "# tuning hyperparameter"
      ],
      "id": "e7b6ef33"
    },
    {
      "cell_type": "code",
      "metadata": {
        "id": "9db13020"
      },
      "source": [
        "rf_classifier=RandomForestClassifier(n_estimators=10)\n",
        "rf_classifier.fit(x_train,y_train)\n",
        "rf_classifier.score(x_test,y_test)\n",
        "prediction=rf_classifier.predict(x_test)"
      ],
      "id": "9db13020",
      "execution_count": null,
      "outputs": []
    },
    {
      "cell_type": "code",
      "metadata": {
        "id": "c42bc7e8"
      },
      "source": [
        ""
      ],
      "id": "c42bc7e8",
      "execution_count": null,
      "outputs": []
    },
    {
      "cell_type": "code",
      "metadata": {
        "colab": {
          "base_uri": "https://localhost:8080/"
        },
        "id": "7ee4a877",
        "scrolled": false,
        "outputId": "3a6d15a6-107d-40f1-c61d-a5de9ebdd7b3"
      },
      "source": [
        "from sklearn.metrics import confusion_matrix,classification_report,accuracy_score\n",
        "print(confusion_matrix(y_test,prediction))\n",
        "print(accuracy_score(y_test,prediction))\n",
        "print(classification_report(y_test,prediction))"
      ],
      "id": "7ee4a877",
      "execution_count": null,
      "outputs": [
        {
          "name": "stdout",
          "output_type": "stream",
          "text": [
            "[[58114   350]\n",
            " [  558 22015]]\n",
            "0.9887952416797265\n",
            "              precision    recall  f1-score   support\n",
            "\n",
            "           0       0.99      0.99      0.99     58464\n",
            "           1       0.98      0.98      0.98     22573\n",
            "\n",
            "    accuracy                           0.99     81037\n",
            "   macro avg       0.99      0.98      0.99     81037\n",
            "weighted avg       0.99      0.99      0.99     81037\n",
            "\n"
          ]
        }
      ]
    },
    {
      "cell_type": "code",
      "metadata": {
        "colab": {
          "base_uri": "https://localhost:8080/"
        },
        "id": "31165213",
        "outputId": "b047a9c0-6023-4092-ec66-d84a8a547383"
      },
      "source": [
        "#manual hyperparameter tunig\n",
        "model=RandomForestClassifier(n_estimators=100,criterion='gini',max_features='sqrt',min_samples_leaf=10,random_state=100).fit(x_train,y_train)\n",
        "predictions=model.predict(x_test)\n",
        "print(confusion_matrix(y_test,predictions))\n",
        "print(accuracy_score(y_test,predictions))\n",
        "print(classification_report(y_test,predictions))"
      ],
      "id": "31165213",
      "execution_count": null,
      "outputs": [
        {
          "name": "stdout",
          "output_type": "stream",
          "text": [
            "[[58307   157]\n",
            " [  686 21887]]\n",
            "0.9895973444229179\n",
            "              precision    recall  f1-score   support\n",
            "\n",
            "           0       0.99      1.00      0.99     58464\n",
            "           1       0.99      0.97      0.98     22573\n",
            "\n",
            "    accuracy                           0.99     81037\n",
            "   macro avg       0.99      0.98      0.99     81037\n",
            "weighted avg       0.99      0.99      0.99     81037\n",
            "\n"
          ]
        }
      ]
    },
    {
      "cell_type": "code",
      "metadata": {
        "colab": {
          "base_uri": "https://localhost:8080/"
        },
        "id": "2359bd45",
        "outputId": "4e137174-1c7a-4993-e1c9-84cde645fce5"
      },
      "source": [
        "n_estimators=[int(x) for x in np.linspace(start=10,stop=50,num=4)]\n",
        "max_features=['auto']\n",
        "max_depth=[int(x) for x in np.linspace(start=10,stop=50,num=5)]\n",
        "min_sample_split=[2,4,6]\n",
        "min_samples_leaf=[1,3,5]\n",
        "random_grid={\n",
        "    'n_estimators':n_estimators,\n",
        "    'max_features':max_features,\n",
        "    'max_depth':max_depth,\n",
        "    'min_samples_split':min_sample_split,\n",
        "    'min_samples_leaf':min_samples_leaf,\n",
        "    'criterion':['entropy','gini']\n",
        "}\n",
        "print(random_grid)"
      ],
      "id": "2359bd45",
      "execution_count": null,
      "outputs": [
        {
          "name": "stdout",
          "output_type": "stream",
          "text": [
            "{'n_estimators': [10, 23, 36, 50], 'max_features': ['auto'], 'max_depth': [10, 20, 30, 40, 50], 'min_samples_split': [2, 4, 6], 'min_samples_leaf': [1, 3, 5], 'criterion': ['entropy', 'gini']}\n"
          ]
        }
      ]
    },
    {
      "cell_type": "code",
      "metadata": {
        "colab": {
          "base_uri": "https://localhost:8080/"
        },
        "id": "73bafbe7",
        "outputId": "d1226775-313c-41db-9195-63131ae3c610"
      },
      "source": [
        "rf=RandomForestClassifier()\n",
        "rf_randomcv=RandomizedSearchCV(estimator=rf,param_distributions=random_grid,n_iter=2,cv=2,verbose=2,random_state=2,n_jobs=-1)\n",
        "rf_randomcv.fit(x_train,y_train)"
      ],
      "id": "73bafbe7",
      "execution_count": null,
      "outputs": [
        {
          "name": "stdout",
          "output_type": "stream",
          "text": [
            "Fitting 2 folds for each of 2 candidates, totalling 4 fits\n"
          ]
        },
        {
          "name": "stderr",
          "output_type": "stream",
          "text": [
            "[Parallel(n_jobs=-1)]: Using backend LokyBackend with 2 concurrent workers.\n",
            "[Parallel(n_jobs=-1)]: Done   4 out of   4 | elapsed:   14.6s remaining:    0.0s\n",
            "[Parallel(n_jobs=-1)]: Done   4 out of   4 | elapsed:   14.6s finished\n"
          ]
        },
        {
          "data": {
            "text/plain": [
              "RandomizedSearchCV(cv=2, error_score=nan,\n",
              "                   estimator=RandomForestClassifier(bootstrap=True,\n",
              "                                                    ccp_alpha=0.0,\n",
              "                                                    class_weight=None,\n",
              "                                                    criterion='gini',\n",
              "                                                    max_depth=None,\n",
              "                                                    max_features='auto',\n",
              "                                                    max_leaf_nodes=None,\n",
              "                                                    max_samples=None,\n",
              "                                                    min_impurity_decrease=0.0,\n",
              "                                                    min_impurity_split=None,\n",
              "                                                    min_samples_leaf=1,\n",
              "                                                    min_samples_split=2,\n",
              "                                                    min_weight_fraction_leaf=0.0,\n",
              "                                                    n_estimators=100,\n",
              "                                                    n_jobs...\n",
              "                                                    verbose=0,\n",
              "                                                    warm_start=False),\n",
              "                   iid='deprecated', n_iter=2, n_jobs=-1,\n",
              "                   param_distributions={'criterion': ['entropy', 'gini'],\n",
              "                                        'max_depth': [10, 20, 30, 40, 50],\n",
              "                                        'max_features': ['auto'],\n",
              "                                        'min_samples_leaf': [1, 3, 5],\n",
              "                                        'min_samples_split': [2, 4, 6],\n",
              "                                        'n_estimators': [10, 23, 36, 50]},\n",
              "                   pre_dispatch='2*n_jobs', random_state=2, refit=True,\n",
              "                   return_train_score=False, scoring=None, verbose=2)"
            ]
          },
          "execution_count": 178,
          "metadata": {},
          "output_type": "execute_result"
        }
      ]
    },
    {
      "cell_type": "code",
      "metadata": {
        "colab": {
          "base_uri": "https://localhost:8080/"
        },
        "id": "1b291978",
        "scrolled": true,
        "outputId": "964472b6-212e-4016-8d87-e7fac28df338"
      },
      "source": [
        "rf_randomcv.best_params_"
      ],
      "id": "1b291978",
      "execution_count": null,
      "outputs": [
        {
          "data": {
            "text/plain": [
              "{'criterion': 'entropy',\n",
              " 'max_depth': 50,\n",
              " 'max_features': 'auto',\n",
              " 'min_samples_leaf': 5,\n",
              " 'min_samples_split': 2,\n",
              " 'n_estimators': 10}"
            ]
          },
          "execution_count": 179,
          "metadata": {},
          "output_type": "execute_result"
        }
      ]
    },
    {
      "cell_type": "code",
      "metadata": {
        "colab": {
          "base_uri": "https://localhost:8080/"
        },
        "id": "cc9fb176",
        "scrolled": true,
        "outputId": "8874b1ba-863c-46cd-d5b3-bb1801df6157"
      },
      "source": [
        "modell=RandomForestClassifier(n_estimators=10,criterion='entropy',max_features='auto',max_depth=50,min_samples_split=2,min_samples_leaf=5).fit(x_train,y_train)\n",
        "predictions=modell.predict(x_test)\n",
        "print(confusion_matrix(y_test,predictions))\n",
        "print(accuracy_score(y_test,predictions))\n",
        "print(classification_report(y_test,predictions))"
      ],
      "id": "cc9fb176",
      "execution_count": null,
      "outputs": [
        {
          "name": "stdout",
          "output_type": "stream",
          "text": [
            "[[58255   209]\n",
            " [  634 21939]]\n",
            "0.9895973444229179\n",
            "              precision    recall  f1-score   support\n",
            "\n",
            "           0       0.99      1.00      0.99     58464\n",
            "           1       0.99      0.97      0.98     22573\n",
            "\n",
            "    accuracy                           0.99     81037\n",
            "   macro avg       0.99      0.98      0.99     81037\n",
            "weighted avg       0.99      0.99      0.99     81037\n",
            "\n"
          ]
        }
      ]
    },
    {
      "cell_type": "code",
      "metadata": {
        "colab": {
          "base_uri": "https://localhost:8080/"
        },
        "id": "d1b60b69",
        "outputId": "bb02a845-d17e-4b9a-d28c-4ed564eeffd3"
      },
      "source": [
        "rf_randomcv.best_params_"
      ],
      "id": "d1b60b69",
      "execution_count": null,
      "outputs": [
        {
          "data": {
            "text/plain": [
              "{'criterion': 'entropy',\n",
              " 'max_depth': 50,\n",
              " 'max_features': 'auto',\n",
              " 'min_samples_leaf': 5,\n",
              " 'min_samples_split': 2,\n",
              " 'n_estimators': 10}"
            ]
          },
          "execution_count": 181,
          "metadata": {},
          "output_type": "execute_result"
        }
      ]
    },
    {
      "cell_type": "code",
      "metadata": {
        "id": "3daeffae"
      },
      "source": [
        ""
      ],
      "id": "3daeffae",
      "execution_count": null,
      "outputs": []
    },
    {
      "cell_type": "code",
      "metadata": {
        "colab": {
          "base_uri": "https://localhost:8080/"
        },
        "id": "c80d3503",
        "outputId": "dc954fec-d706-4e2d-bfde-54a326487fd0"
      },
      "source": [
        "param_grid={\n",
        "    'criterion':[rf_randomcv.best_params_['criterion']],\n",
        "    'max_depth':[rf_randomcv.best_params_['max_depth']],\n",
        "    'max_features':[rf_randomcv.best_params_['max_features']],\n",
        "    'min_samples_leaf':[rf_randomcv.best_params_['min_samples_leaf'],\n",
        "                       rf_randomcv.best_params_['min_samples_leaf']+1,\n",
        "                       rf_randomcv.best_params_['min_samples_leaf']+2],\n",
        "    'min_samples_split':[rf_randomcv.best_params_['min_samples_split']-1,\n",
        "                        rf_randomcv.best_params_['min_samples_split'],\n",
        "                        rf_randomcv.best_params_['min_samples_split']+1],\n",
        "    'n_estimators':[rf_randomcv.best_params_['n_estimators']-2,\n",
        "                   rf_randomcv.best_params_['n_estimators'],\n",
        "                   rf_randomcv.best_params_['n_estimators']+2]\n",
        "    \n",
        "}\n",
        "print(param_grid)"
      ],
      "id": "c80d3503",
      "execution_count": null,
      "outputs": [
        {
          "name": "stdout",
          "output_type": "stream",
          "text": [
            "{'criterion': ['entropy'], 'max_depth': [50], 'max_features': ['auto'], 'min_samples_leaf': [5, 6, 7], 'min_samples_split': [1, 2, 3], 'n_estimators': [8, 10, 12]}\n"
          ]
        }
      ]
    },
    {
      "cell_type": "code",
      "metadata": {
        "colab": {
          "background_save": true
        },
        "id": "905b4d0f",
        "outputId": "5aef4f03-f86f-4054-a10f-b409793e1db8"
      },
      "source": [
        "rf=RandomForestClassifier()\n",
        "grid_search=GridSearchCV(estimator=rf,param_grid=param_grid,cv=2,n_jobs=-1)\n",
        "grid_search.fit(x_train,y_train)"
      ],
      "id": "905b4d0f",
      "execution_count": null,
      "outputs": [
        {
          "data": {
            "text/plain": [
              "GridSearchCV(cv=2, error_score=nan,\n",
              "             estimator=RandomForestClassifier(bootstrap=True, ccp_alpha=0.0,\n",
              "                                              class_weight=None,\n",
              "                                              criterion='gini', max_depth=None,\n",
              "                                              max_features='auto',\n",
              "                                              max_leaf_nodes=None,\n",
              "                                              max_samples=None,\n",
              "                                              min_impurity_decrease=0.0,\n",
              "                                              min_impurity_split=None,\n",
              "                                              min_samples_leaf=1,\n",
              "                                              min_samples_split=2,\n",
              "                                              min_weight_fraction_leaf=0.0,\n",
              "                                              n_estimators=100, n_jobs=None,\n",
              "                                              oob_score=False,\n",
              "                                              random_state=None, verbose=0,\n",
              "                                              warm_start=False),\n",
              "             iid='deprecated', n_jobs=-1,\n",
              "             param_grid={'criterion': ['entropy'], 'max_depth': [50],\n",
              "                         'max_features': ['auto'],\n",
              "                         'min_samples_leaf': [5, 6, 7],\n",
              "                         'min_samples_split': [1, 2, 3],\n",
              "                         'n_estimators': [8, 10, 12]},\n",
              "             pre_dispatch='2*n_jobs', refit=True, return_train_score=False,\n",
              "             scoring=None, verbose=0)"
            ]
          },
          "execution_count": null,
          "metadata": {},
          "output_type": "execute_result"
        }
      ]
    },
    {
      "cell_type": "code",
      "metadata": {
        "colab": {
          "background_save": true
        },
        "id": "911a77c4",
        "outputId": "f10e1c7f-f571-4d0b-d2ec-db6016f867f2"
      },
      "source": [
        "grid_search.best_estimator_"
      ],
      "id": "911a77c4",
      "execution_count": null,
      "outputs": [
        {
          "data": {
            "text/plain": [
              "RandomForestClassifier(bootstrap=True, ccp_alpha=0.0, class_weight=None,\n",
              "                       criterion='entropy', max_depth=50, max_features='auto',\n",
              "                       max_leaf_nodes=None, max_samples=None,\n",
              "                       min_impurity_decrease=0.0, min_impurity_split=None,\n",
              "                       min_samples_leaf=5, min_samples_split=2,\n",
              "                       min_weight_fraction_leaf=0.0, n_estimators=10,\n",
              "                       n_jobs=None, oob_score=False, random_state=None,\n",
              "                       verbose=0, warm_start=False)"
            ]
          },
          "execution_count": null,
          "metadata": {},
          "output_type": "execute_result"
        }
      ]
    },
    {
      "cell_type": "code",
      "metadata": {
        "colab": {
          "background_save": true
        },
        "id": "50854b1d",
        "outputId": "fe1052f8-0295-4fff-d492-04c6ef61aa58"
      },
      "source": [
        "modell=RandomForestClassifier(n_estimators=10,criterion='entropy',max_depth=50,min_samples_split=3,min_samples_leaf=5).fit(x_train,y_train)\n",
        "predictions=modell.predict(x_test)\n",
        "print(confusion_matrix(y_test,predictions))\n",
        "print(accuracy_score(y_test,predictions))\n",
        "print(classification_report(y_test,predictions))"
      ],
      "id": "50854b1d",
      "execution_count": null,
      "outputs": [
        {
          "name": "stdout",
          "output_type": "stream",
          "text": [
            "[[58271   193]\n",
            " [  624 21949]]\n",
            "0.9899181855201945\n",
            "              precision    recall  f1-score   support\n",
            "\n",
            "           0       0.99      1.00      0.99     58464\n",
            "           1       0.99      0.97      0.98     22573\n",
            "\n",
            "    accuracy                           0.99     81037\n",
            "   macro avg       0.99      0.98      0.99     81037\n",
            "weighted avg       0.99      0.99      0.99     81037\n",
            "\n"
          ]
        }
      ]
    },
    {
      "cell_type": "code",
      "metadata": {
        "colab": {
          "background_save": true
        },
        "id": "89508034",
        "outputId": "75574a61-1d6c-4376-8293-ae4b47fa967c"
      },
      "source": [
        "y_test.head()"
      ],
      "id": "89508034",
      "execution_count": null,
      "outputs": [
        {
          "data": {
            "text/plain": [
              "313746    0\n",
              "315151    1\n",
              "266438    0\n",
              "396314    0\n",
              "59327     0\n",
              "Name: light_n, dtype: int64"
            ]
          },
          "execution_count": null,
          "metadata": {},
          "output_type": "execute_result"
        }
      ]
    },
    {
      "cell_type": "markdown",
      "metadata": {
        "id": "dbb6b435"
      },
      "source": [
        "# Comparing ROC and AUROC "
      ],
      "id": "dbb6b435"
    },
    {
      "cell_type": "code",
      "metadata": {
        "colab": {
          "background_save": true
        },
        "id": "7545a66e"
      },
      "source": [
        "r_probs=[0 for  _ in range(len(y_test))]\n",
        "rf_probs=model1.predict(x_test)\n",
        "nb_probs=model2.predict(x_test)"
      ],
      "id": "7545a66e",
      "execution_count": null,
      "outputs": []
    },
    {
      "cell_type": "code",
      "metadata": {
        "colab": {
          "background_save": true
        },
        "id": "abf37462"
      },
      "source": [
        "from sklearn.metrics import roc_curve,roc_auc_score"
      ],
      "id": "abf37462",
      "execution_count": null,
      "outputs": []
    },
    {
      "cell_type": "code",
      "metadata": {
        "colab": {
          "background_save": true
        },
        "id": "68035510",
        "outputId": "6b35f861-463c-43ca-af2b-e5bfaf0ac441"
      },
      "source": [
        "r_auc=roc_auc_score(y_test,r_probs)\n",
        "rf_auc=roc_auc_score(y_test,rf_probs)\n",
        "nb_auc=roc_auc_score(y_test,nb_probs)\n",
        "print(r_auc,rf_auc,nb_auc)"
      ],
      "id": "68035510",
      "execution_count": null,
      "outputs": [
        {
          "name": "stdout",
          "output_type": "stream",
          "text": [
            "0.5 0.9659761967381824 0.9931150861544606\n"
          ]
        }
      ]
    },
    {
      "cell_type": "code",
      "metadata": {
        "colab": {
          "background_save": true
        },
        "id": "ffd52e63"
      },
      "source": [
        "#calculating ROC curve"
      ],
      "id": "ffd52e63",
      "execution_count": null,
      "outputs": []
    },
    {
      "cell_type": "code",
      "metadata": {
        "colab": {
          "background_save": true
        },
        "id": "9cfddae2"
      },
      "source": [
        "r_fpr,r_tpr, _ =roc_curve(y_test,r_probs)\n",
        "rf_fpr,rf_tpr, _ =roc_curve(y_test,rf_probs)\n",
        "nb_fpr,nb_tpr, _ =roc_curve(y_test,nb_probs)\n"
      ],
      "id": "9cfddae2",
      "execution_count": null,
      "outputs": []
    },
    {
      "cell_type": "code",
      "metadata": {
        "colab": {
          "background_save": true
        },
        "id": "185217da",
        "outputId": "aa24cd6c-63f0-4ae4-e82e-215843204657"
      },
      "source": [
        "#plotting\n",
        "plt.plot(r_fpr,r_tpr,linestyle='--',label='Random prediction (AUROC=%0.3f)'%r_auc)\n",
        "plt.plot(rf_fpr,rf_tpr,linestyle='-.',label='Random Forest (AUROC=%0.3f)'%rf_auc)\n",
        "plt.plot(nb_fpr,nb_tpr,linestyle='-',label='Naive Bayes (AUROC=%0.3f)'%nb_auc)\n",
        "\n",
        "plt.title('ROC PLOT')\n",
        "plt.xlabel('FPR')\n",
        "plt.ylabel('TPR')\n",
        "plt.legend()\n",
        "\n",
        "plt.show()\n"
      ],
      "id": "185217da",
      "execution_count": null,
      "outputs": [
        {
          "data": {
            "image/png": "[encoded data removed]",
            "text/plain": [
              "<Figure size 432x288 with 1 Axes>"
            ]
          },
          "metadata": {},
          "output_type": "display_data"
        }
      ]
    },
    {
      "cell_type": "code",
      "metadata": {
        "colab": {
          "background_save": true
        },
        "id": "b8b3015a"
      },
      "source": [
        ""
      ],
      "id": "b8b3015a",
      "execution_count": null,
      "outputs": []
    },
    {
      "cell_type": "code",
      "metadata": {
        "colab": {
          "background_save": true
        },
        "id": "7fd48ee2"
      },
      "source": [
        ""
      ],
      "id": "7fd48ee2",
      "execution_count": null,
      "outputs": []
    },
    {
      "cell_type": "markdown",
      "metadata": {
        "id": "06bf283b"
      },
      "source": [
        "# LOGISTIC REGRESSION"
      ],
      "id": "06bf283b"
    },
    {
      "cell_type": "code",
      "metadata": {
        "colab": {
          "background_save": true
        },
        "id": "ba94a84e",
        "outputId": "e7f31bde-e5a7-4c7b-c31b-81f45b5701b3"
      },
      "source": [
        "plt.scatter(df.temp,y,marker='+',color='red')"
      ],
      "id": "ba94a84e",
      "execution_count": null,
      "outputs": [
        {
          "data": {
            "text/plain": [
              "<matplotlib.collections.PathCollection at 0x7f2c669903d0>"
            ]
          },
          "execution_count": null,
          "metadata": {},
          "output_type": "execute_result"
        },
        {
          "data": {
            "image/png": "[encoded data removed]",
            "text/plain": [
              "<Figure size 432x288 with 1 Axes>"
            ]
          },
          "metadata": {},
          "output_type": "display_data"
        }
      ]
    },
    {
      "cell_type": "code",
      "metadata": {
        "colab": {
          "background_save": true
        },
        "id": "119ffae2"
      },
      "source": [
        "from sklearn.linear_model import LogisticRegression\n",
        "model3=LogisticRegression()"
      ],
      "id": "119ffae2",
      "execution_count": null,
      "outputs": []
    },
    {
      "cell_type": "code",
      "metadata": {
        "colab": {
          "background_save": true
        },
        "id": "f351fd73",
        "outputId": "7f886db2-9bca-40f4-f633-4e8e0755ac7a"
      },
      "source": [
        "model3.fit(x_train,y_train)"
      ],
      "id": "f351fd73",
      "execution_count": null,
      "outputs": [
        {
          "data": {
            "text/plain": [
              "LogisticRegression(C=1.0, class_weight=None, dual=False, fit_intercept=True,\n",
              "                   intercept_scaling=1, l1_ratio=None, max_iter=100,\n",
              "                   multi_class='auto', n_jobs=None, penalty='l2',\n",
              "                   random_state=None, solver='lbfgs', tol=0.0001, verbose=0,\n",
              "                   warm_start=False)"
            ]
          },
          "execution_count": null,
          "metadata": {},
          "output_type": "execute_result"
        }
      ]
    },
    {
      "cell_type": "code",
      "metadata": {
        "colab": {
          "background_save": true
        },
        "id": "03f778da",
        "outputId": "c20ccbda-07b7-4492-91ad-b99b8e1cb1b3"
      },
      "source": [
        "model3.score(x_test,y_test)"
      ],
      "id": "03f778da",
      "execution_count": null,
      "outputs": [
        {
          "data": {
            "text/plain": [
              "0.9792070288880388"
            ]
          },
          "execution_count": null,
          "metadata": {},
          "output_type": "execute_result"
        }
      ]
    },
    {
      "cell_type": "code",
      "metadata": {
        "colab": {
          "background_save": true
        },
        "id": "d8cef1c1"
      },
      "source": [
        "logModel=LogisticRegression()"
      ],
      "id": "d8cef1c1",
      "execution_count": null,
      "outputs": []
    },
    {
      "cell_type": "code",
      "metadata": {
        "colab": {
          "background_save": true
        },
        "id": "5b021278",
        "outputId": "36fbe8e4-0855-4d90-cf0c-bd8c9081e85c"
      },
      "source": [
        "lr_param_grid=[{\n",
        "    'penalty':['l1','l2'],\n",
        "    'C':np.logspace(-4,4,3),\n",
        "    'solver':['lbfgs','newton-cg'],\n",
        "    'max_iter':[10,30,100]}\n",
        "]\n",
        "print(lr_param_grid)"
      ],
      "id": "5b021278",
      "execution_count": null,
      "outputs": [
        {
          "name": "stdout",
          "output_type": "stream",
          "text": [
            "[{'penalty': ['l1', 'l2'], 'C': array([1.e-04, 1.e+00, 1.e+04]), 'solver': ['lbfgs', 'newton-cg'], 'max_iter': [10, 30, 100]}]\n"
          ]
        }
      ]
    },
    {
      "cell_type": "code",
      "metadata": {
        "colab": {
          "background_save": true
        },
        "id": "bd3366df"
      },
      "source": [
        "lr=GridSearchCV(logModel,param_grid=lr_param_grid,cv=2,n_jobs=-1)\n",
        "bestlr=lr.fit(x_test,y_test)"
      ],
      "id": "bd3366df",
      "execution_count": null,
      "outputs": []
    },
    {
      "cell_type": "code",
      "metadata": {
        "colab": {
          "background_save": true
        },
        "id": "9f1e50b5",
        "outputId": "e9799f55-640d-4a1b-dad3-04090ffc4ca0"
      },
      "source": [
        "bestlr.best_estimator_"
      ],
      "id": "9f1e50b5",
      "execution_count": null,
      "outputs": [
        {
          "data": {
            "text/plain": [
              "LogisticRegression(C=10000.0, class_weight=None, dual=False, fit_intercept=True,\n",
              "                   intercept_scaling=1, l1_ratio=None, max_iter=100,\n",
              "                   multi_class='auto', n_jobs=None, penalty='l2',\n",
              "                   random_state=None, solver='lbfgs', tol=0.0001, verbose=0,\n",
              "                   warm_start=False)"
            ]
          },
          "execution_count": null,
          "metadata": {},
          "output_type": "execute_result"
        }
      ]
    },
    {
      "cell_type": "code",
      "metadata": {
        "colab": {
          "background_save": true
        },
        "id": "4c1f25c9",
        "outputId": "ded58d58-71c1-4b50-c21c-6bbc63a60cf9"
      },
      "source": [
        "lg_model=LogisticRegression(C=10000.0,solver='newton-cg')\n",
        "lg_model.fit(x_train,y_train)\n"
      ],
      "id": "4c1f25c9",
      "execution_count": null,
      "outputs": [
        {
          "name": "stderr",
          "output_type": "stream",
          "text": [
            "/usr/local/lib/python3.7/dist-packages/scipy/optimize/linesearch.py:466: LineSearchWarning: The line search algorithm did not converge\n",
            "  warn('The line search algorithm did not converge', LineSearchWarning)\n",
            "/usr/local/lib/python3.7/dist-packages/scipy/optimize/linesearch.py:314: LineSearchWarning: The line search algorithm did not converge\n",
            "  warn('The line search algorithm did not converge', LineSearchWarning)\n",
            "/usr/local/lib/python3.7/dist-packages/scipy/optimize/linesearch.py:466: LineSearchWarning: The line search algorithm did not converge\n",
            "  warn('The line search algorithm did not converge', LineSearchWarning)\n",
            "/usr/local/lib/python3.7/dist-packages/scipy/optimize/linesearch.py:314: LineSearchWarning: The line search algorithm did not converge\n",
            "  warn('The line search algorithm did not converge', LineSearchWarning)\n",
            "/usr/local/lib/python3.7/dist-packages/sklearn/utils/optimize.py:212: ConvergenceWarning: newton-cg failed to converge. Increase the number of iterations.\n",
            "  \"number of iterations.\", ConvergenceWarning)\n"
          ]
        },
        {
          "data": {
            "text/plain": [
              "LogisticRegression(C=10000.0, class_weight=None, dual=False, fit_intercept=True,\n",
              "                   intercept_scaling=1, l1_ratio=None, max_iter=100,\n",
              "                   multi_class='auto', n_jobs=None, penalty='l2',\n",
              "                   random_state=None, solver='newton-cg', tol=0.0001, verbose=0,\n",
              "                   warm_start=False)"
            ]
          },
          "execution_count": null,
          "metadata": {},
          "output_type": "execute_result"
        }
      ]
    },
    {
      "cell_type": "code",
      "metadata": {
        "colab": {
          "background_save": true
        },
        "id": "b15a15f5",
        "outputId": "5f5b380e-98b1-4287-e661-b58252aad546"
      },
      "source": [
        "lg_model.score(x_test,y_test)"
      ],
      "id": "b15a15f5",
      "execution_count": null,
      "outputs": [
        {
          "data": {
            "text/plain": [
              "0.9799104112936067"
            ]
          },
          "execution_count": null,
          "metadata": {},
          "output_type": "execute_result"
        }
      ]
    },
    {
      "cell_type": "code",
      "metadata": {
        "colab": {
          "background_save": true
        },
        "id": "2ce510c0"
      },
      "source": [
        ""
      ],
      "id": "2ce510c0",
      "execution_count": null,
      "outputs": []
    },
    {
      "cell_type": "markdown",
      "metadata": {
        "id": "210c27cd"
      },
      "source": [
        "# SVM"
      ],
      "id": "210c27cd"
    },
    {
      "cell_type": "code",
      "metadata": {
        "colab": {
          "background_save": true
        },
        "id": "b5a49191",
        "scrolled": true
      },
      "source": [
        "from sklearn.svm import SVC\n",
        "svc=SVC(probability=True,kernel='linear',C=0.001,gamma=0.002)\n",
        "svc.fit(x_train,y_train)"
      ],
      "id": "b5a49191",
      "execution_count": null,
      "outputs": []
    },
    {
      "cell_type": "code",
      "metadata": {
        "colab": {
          "background_save": true
        },
        "id": "db0bcaa0"
      },
      "source": [
        "svc.score(x_test,y_test)"
      ],
      "id": "db0bcaa0",
      "execution_count": null,
      "outputs": []
    },
    {
      "cell_type": "code",
      "metadata": {
        "colab": {
          "background_save": true
        },
        "id": "f85c9312"
      },
      "source": [
        ""
      ],
      "id": "f85c9312",
      "execution_count": null,
      "outputs": []
    },
    {
      "cell_type": "markdown",
      "metadata": {
        "id": "0e06ef5f"
      },
      "source": [
        "# XG Boost"
      ],
      "id": "0e06ef5f"
    },
    {
      "cell_type": "code",
      "metadata": {
        "colab": {
          "background_save": true
        },
        "id": "583b48c8"
      },
      "source": [
        "params={\n",
        " \"learning_rate\"    : [0.05, 0.10 ] ,\n",
        " \"max_depth\"        : [ 3, 6],\n",
        " \"min_child_weight\" : [ 2, 4 ],\n",
        " \"gamma\"            : [ 0.1,0.4 ],\n",
        " \"colsample_bytree\" : [ 0.3, 0.4]  \n",
        "}\n",
        "print(params)"
      ],
      "id": "583b48c8",
      "execution_count": null,
      "outputs": []
    },
    {
      "cell_type": "code",
      "metadata": {
        "colab": {
          "background_save": true
        },
        "id": "007f8422"
      },
      "source": [
        "## Hyperparameter optimization using RandomizedSearchCV\n",
        "import xgboost"
      ],
      "id": "007f8422",
      "execution_count": null,
      "outputs": []
    },
    {
      "cell_type": "code",
      "metadata": {
        "colab": {
          "background_save": true
        },
        "id": "3da6bf60"
      },
      "source": [
        "classifier=xgboost.XGBClassifier()"
      ],
      "id": "3da6bf60",
      "execution_count": null,
      "outputs": []
    },
    {
      "cell_type": "code",
      "metadata": {
        "colab": {
          "background_save": true
        },
        "id": "648df497"
      },
      "source": [
        "random_search=RandomizedSearchCV(classifier,param_distributions=params,n_iter=2,scoring='roc_auc',n_jobs=-1,cv=2,verbose=3)"
      ],
      "id": "648df497",
      "execution_count": null,
      "outputs": []
    },
    {
      "cell_type": "code",
      "metadata": {
        "colab": {
          "background_save": true
        },
        "id": "36425843"
      },
      "source": [
        "random_search.fit(x_train,y_train)"
      ],
      "id": "36425843",
      "execution_count": null,
      "outputs": []
    },
    {
      "cell_type": "code",
      "metadata": {
        "colab": {
          "background_save": true
        },
        "id": "780afdc9"
      },
      "source": [
        "random_search.best_params_"
      ],
      "id": "780afdc9",
      "execution_count": null,
      "outputs": []
    },
    {
      "cell_type": "code",
      "metadata": {
        "colab": {
          "background_save": true
        },
        "id": "42b848c0"
      },
      "source": [
        "from sklearn.model_selection import cross_val_score\n",
        "score=cross_val_score(classifier,x_train,y_train,cv=5)"
      ],
      "id": "42b848c0",
      "execution_count": null,
      "outputs": []
    },
    {
      "cell_type": "code",
      "metadata": {
        "colab": {
          "background_save": true
        },
        "id": "9ecc96bf"
      },
      "source": [
        "score"
      ],
      "id": "9ecc96bf",
      "execution_count": null,
      "outputs": []
    },
    {
      "cell_type": "code",
      "metadata": {
        "colab": {
          "background_save": true
        },
        "id": "11dfced1"
      },
      "source": [
        ""
      ],
      "id": "11dfced1",
      "execution_count": null,
      "outputs": []
    },
    {
      "cell_type": "code",
      "metadata": {
        "colab": {
          "background_save": true
        },
        "id": "1f185963"
      },
      "source": [
        ""
      ],
      "id": "1f185963",
      "execution_count": null,
      "outputs": []
    },
    {
      "cell_type": "code",
      "metadata": {
        "colab": {
          "background_save": true
        },
        "id": "3624cdf1"
      },
      "source": [
        ""
      ],
      "id": "3624cdf1",
      "execution_count": null,
      "outputs": []
    }
  ]
}